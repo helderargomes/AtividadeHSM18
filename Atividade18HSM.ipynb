{
  "nbformat": 4,
  "nbformat_minor": 0,
  "metadata": {
    "colab": {
      "name": "Atividade18HSM.ipynb",
      "provenance": [],
      "collapsed_sections": []
    },
    "kernelspec": {
      "name": "python3",
      "display_name": "Python 3"
    },
    "language_info": {
      "name": "python"
    }
  },
  "cells": [
    {
      "cell_type": "code",
      "execution_count": 15,
      "metadata": {
        "id": "bVufRQsbgi0F"
      },
      "outputs": [],
      "source": [
        "# Importando as bibliotecas NumPy e Pandas\n",
        "import numpy as np\n",
        "import pandas as pd\n",
        "import matplotlib.pyplot as plt\n",
        "import seaborn as sns\n",
        "import plotly.express as px\n"
      ]
    },
    {
      "cell_type": "code",
      "source": [
        "# Importando a base de dados de infrações de trânsito no mês de julho de 2020\n",
        "db = pd.read_csv('julho.csv', sep=';')"
      ],
      "metadata": {
        "id": "LHGS_ej5htuw"
      },
      "execution_count": 2,
      "outputs": []
    },
    {
      "cell_type": "code",
      "source": [
        "# Verificando o cabeçalho do arquivo\n",
        "db.head()"
      ],
      "metadata": {
        "id": "3UrTqrEri7N-"
      },
      "execution_count": null,
      "outputs": []
    },
    {
      "cell_type": "code",
      "source": [
        "# Avaliando o tamanho do arquivo\n",
        "db.shape"
      ],
      "metadata": {
        "id": "eXYU_OvKjMT8"
      },
      "execution_count": null,
      "outputs": []
    },
    {
      "cell_type": "code",
      "source": [
        "# Avaliando os tipos de dados do dataframe\n",
        "db.dtypes"
      ],
      "metadata": {
        "id": "XpHKJ03bjTTh"
      },
      "execution_count": null,
      "outputs": []
    },
    {
      "cell_type": "code",
      "source": [
        "# Ao avaliar os tipos de dados, já se nota uma necessidade: alterar o tipo de dado da coluna \"cometimento\" de object (string) para data\n",
        "db[\"cometimento\"] = pd.to_datetime(db[\"cometimento\"])"
      ],
      "metadata": {
        "id": "4Q9G6jnmjhIe"
      },
      "execution_count": 6,
      "outputs": []
    },
    {
      "cell_type": "code",
      "source": [
        "# Verificando se a transformação de tipos de dados ocorreu\n",
        "db.dtypes"
      ],
      "metadata": {
        "id": "k_VuZtjwkFs0"
      },
      "execution_count": null,
      "outputs": []
    },
    {
      "cell_type": "code",
      "source": [
        "# Uma vez que uma das questões do problema é obter o número de infrações diárias, já vou criar uma coluna para separar o dia. Foi necessário pedir para filtrar pelo mês, em função do formato da data.\n",
        "db[\"dia_cometimento\"] = (db[\"cometimento\"].dt.month)"
      ],
      "metadata": {
        "id": "41H59O5lkYtP"
      },
      "execution_count": 8,
      "outputs": []
    },
    {
      "cell_type": "code",
      "source": [
        "# Verificando se a coluna foi criada\n",
        "db.dtypes"
      ],
      "metadata": {
        "id": "nA-2mHyWkzSu"
      },
      "execution_count": null,
      "outputs": []
    },
    {
      "cell_type": "code",
      "source": [
        "db.tail(20)"
      ],
      "metadata": {
        "id": "pScp1Vphcnnw"
      },
      "execution_count": null,
      "outputs": []
    },
    {
      "cell_type": "code",
      "source": [
        "# Verificando a existência de valores nulos\n",
        "db.isnull().sum()\n",
        "#Verifica-se que há dados faltantes em algumas colunas, principalmente nos dados do local de cometimento da infração."
      ],
      "metadata": {
        "id": "RyBcA3Kak_KM"
      },
      "execution_count": null,
      "outputs": []
    },
    {
      "cell_type": "code",
      "source": [
        "# Agrupando o número de infrações por tipo e por dia\n",
        "tipo_infracoes_dia = db.groupby([\"dia_cometimento\"])[\"grav_tipo\"].value_counts().to_frame(\"quantidade\").reset_index()"
      ],
      "metadata": {
        "id": "TbQXwmzs0j38"
      },
      "execution_count": 25,
      "outputs": []
    },
    {
      "cell_type": "code",
      "source": [
        "# Verificando se o agrupamento funcionou\n",
        "tipo_infracoes_dia"
      ],
      "metadata": {
        "id": "Xallchz21W6d"
      },
      "execution_count": null,
      "outputs": []
    },
    {
      "cell_type": "code",
      "source": [
        "# Criando o gráfico de dispersão\n",
        "fig = px.scatter(tipo_infracoes_dia, x=\"dia_cometimento\", y=\"quantidade\", color=\"grav_tipo\")\n",
        "fig.show()"
      ],
      "metadata": {
        "id": "QwKDtkXQ2vM1"
      },
      "execution_count": null,
      "outputs": []
    },
    {
      "cell_type": "code",
      "source": [
        "# Criando o gráfico de linhas\n",
        "fig = px.line(tipo_infracoes_dia, x=\"dia_cometimento\", y=\"quantidade\", color=\"grav_tipo\")\n",
        "fig.show()"
      ],
      "metadata": {
        "id": "kHEthCpL3vOw"
      },
      "execution_count": null,
      "outputs": []
    }
  ]
}